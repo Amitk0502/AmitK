{
  "nbformat": 4,
  "nbformat_minor": 0,
  "metadata": {
    "colab": {
      "provenance": []
    },
    "kernelspec": {
      "name": "python3",
      "display_name": "Python 3"
    },
    "language_info": {
      "name": "python"
    }
  },
  "cells": [
    {
      "cell_type": "code",
      "execution_count": 46,
      "metadata": {
        "id": "qPtgc8PLKU2K"
      },
      "outputs": [],
      "source": [
        "import pandas as pd\n",
        "import numpy as np\n",
        "import sys"
      ]
    },
    {
      "cell_type": "code",
      "source": [
        "df= pd.read_csv('munnar.csv')\n",
        "print(type(df))"
      ],
      "metadata": {
        "colab": {
          "base_uri": "https://localhost:8080/"
        },
        "id": "-KNaSYgiUZue",
        "outputId": "c0ea8297-cc89-435d-c0ce-fec67b6d0a86"
      },
      "execution_count": 47,
      "outputs": [
        {
          "output_type": "stream",
          "name": "stdout",
          "text": [
            "<class 'pandas.core.frame.DataFrame'>\n"
          ]
        }
      ]
    },
    {
      "cell_type": "code",
      "source": [
        "print(df.columns)\n",
        "print(df.shape)"
      ],
      "metadata": {
        "colab": {
          "base_uri": "https://localhost:8080/"
        },
        "id": "JYdecAOdc989",
        "outputId": "78d23dca-72c5-40f7-9218-b60d09216811"
      },
      "execution_count": 49,
      "outputs": [
        {
          "output_type": "stream",
          "name": "stdout",
          "text": [
            "Index(['Hotel Name\\t\\t\\t\\t\\t\\t\\t\\t\\t', 'Rating', 'Rating Description',\n",
            "       'Reviews', 'Star Rating', 'Location', 'Nearest Landmark',\n",
            "       'Distance to Landmark', 'Price', 'Tax'],\n",
            "      dtype='object')\n",
            "(74, 10)\n"
          ]
        }
      ]
    },
    {
      "cell_type": "code",
      "source": [
        "df.info()\n",
        "print(sys.getsizeof(df))\n",
        "print(df.index)"
      ],
      "metadata": {
        "colab": {
          "base_uri": "https://localhost:8080/"
        },
        "id": "fobCx9UYUh97",
        "outputId": "6b46c355-651a-4e4d-e381-a001c565580a"
      },
      "execution_count": 53,
      "outputs": [
        {
          "output_type": "stream",
          "name": "stdout",
          "text": [
            "<class 'pandas.core.frame.DataFrame'>\n",
            "RangeIndex: 74 entries, 0 to 73\n",
            "Data columns (total 10 columns):\n",
            " #   Column                Non-Null Count  Dtype  \n",
            "---  ------                --------------  -----  \n",
            " 0   Hotel Name\t\t\t\t\t\t\t\t\t   74 non-null     object \n",
            " 1   Rating                74 non-null     float64\n",
            " 2   Rating Description    74 non-null     object \n",
            " 3   Reviews               74 non-null     int64  \n",
            " 4   Star Rating           57 non-null     float64\n",
            " 5   Location              74 non-null     object \n",
            " 6   Nearest Landmark      74 non-null     object \n",
            " 7   Distance to Landmark  74 non-null     object \n",
            " 8   Price                 74 non-null     object \n",
            " 9   Tax                   72 non-null     object \n",
            "dtypes: float64(2), int64(1), object(7)\n",
            "memory usage: 5.9+ KB\n",
            "36974\n",
            "RangeIndex(start=0, stop=74, step=1)\n"
          ]
        }
      ]
    },
    {
      "cell_type": "code",
      "source": [
        "print(df.head(3))"
      ],
      "metadata": {
        "colab": {
          "base_uri": "https://localhost:8080/"
        },
        "id": "C1Al09EGdUgj",
        "outputId": "3c0a93a9-9e5e-47b1-93ac-4f590f4fa42e"
      },
      "execution_count": 54,
      "outputs": [
        {
          "output_type": "stream",
          "name": "stdout",
          "text": [
            "  Hotel Name\\t\\t\\t\\t\\t\\t\\t\\t\\t  Rating Rating Description  Reviews  \\\n",
            "0                 Gokulam Park     4.1          Very Good     1058   \n",
            "1              Sterling Munnar     3.8          Very Good     1088   \n",
            "2             Issacs Residency     4.1          Very Good      322   \n",
            "\n",
            "   Star Rating         Location    Nearest Landmark Distance to Landmark  \\\n",
            "0          4.0   Chithirapuram          city centre             10.2 km    \n",
            "1          4.0     Chinnakanal          city centre             19.2 km    \n",
            "2          3.0  Central Munnar   Attukal Waterfalls               950 m    \n",
            "\n",
            "   Price  Tax  \n",
            "0  2,728  574  \n",
            "1  4,451  969  \n",
            "2  2,758  684  \n"
          ]
        }
      ]
    },
    {
      "cell_type": "code",
      "source": [
        "df.rename(columns= {'Hotel Name\\t\\t\\t\\t\\t\\t\\t\\t\\t': 'Hotel Name'}, inplace = True)\n",
        "print(df.columns)\n",
        "print(df.head())"
      ],
      "metadata": {
        "colab": {
          "base_uri": "https://localhost:8080/"
        },
        "id": "GT98Y5hKZqo7",
        "outputId": "5f5cfcc0-bd98-44e4-ed35-354ce141898f"
      },
      "execution_count": 10,
      "outputs": [
        {
          "output_type": "stream",
          "name": "stdout",
          "text": [
            "Index(['Hotel Name', 'Rating', 'Rating Description', 'Reviews', 'Star Rating',\n",
            "       'Location', 'Nearest Landmark', 'Distance to Landmark', 'Price', 'Tax'],\n",
            "      dtype='object')\n",
            "          Hotel Name  Rating Rating Description  Reviews  Star Rating  \\\n",
            "0       Gokulam Park     4.1          Very Good     1058          4.0   \n",
            "1    Sterling Munnar     3.8          Very Good     1088          4.0   \n",
            "2   Issacs Residency     4.1          Very Good      322          3.0   \n",
            "3  Tea Valley Resort     4.3          Excellent     1337          4.0   \n",
            "4        Grand Plaza     4.3          Excellent     1058          4.0   \n",
            "\n",
            "          Location    Nearest Landmark Distance to Landmark  Price  Tax  \n",
            "0   Chithirapuram          city centre             10.2 km   2,728  574  \n",
            "1     Chinnakanal          city centre             19.2 km   4,451  969  \n",
            "2  Central Munnar   Attukal Waterfalls               950 m   2,758  684  \n",
            "3      Pallivasal          city centre              4.8 km   2,675  756  \n",
            "4      Moolakadai   Attukal Waterfalls              1.9 km   3,203  654  \n"
          ]
        }
      ]
    },
    {
      "cell_type": "code",
      "source": [
        "df.index = df['Hotel Name']"
      ],
      "metadata": {
        "id": "iJEB7qLRaOV8"
      },
      "execution_count": 11,
      "outputs": []
    },
    {
      "cell_type": "code",
      "source": [
        "print(df.iloc[0])"
      ],
      "metadata": {
        "colab": {
          "base_uri": "https://localhost:8080/"
        },
        "id": "oPassV5Yw27C",
        "outputId": "75e52781-b3dc-4035-b0f3-fdbc295bbd05"
      },
      "execution_count": 12,
      "outputs": [
        {
          "output_type": "stream",
          "name": "stdout",
          "text": [
            "Hotel Name                Gokulam Park\n",
            "Rating                             4.1\n",
            "Rating Description           Very Good\n",
            "Reviews                           1058\n",
            "Star Rating                        4.0\n",
            "Location                Chithirapuram \n",
            "Nearest Landmark           city centre\n",
            "Distance to Landmark          10.2 km \n",
            "Price                            2,728\n",
            "Tax                                574\n",
            "Name: Gokulam Park, dtype: object\n"
          ]
        }
      ]
    },
    {
      "cell_type": "code",
      "source": [
        "print(df.head(2))\n",
        "df.reset_index(inplace= True, drop=True)\n",
        "df"
      ],
      "metadata": {
        "colab": {
          "base_uri": "https://localhost:8080/",
          "height": 679
        },
        "id": "ja3xLEwWyTvK",
        "outputId": "b1ba49ef-8b16-4a87-a391-6f1be0a27e91"
      },
      "execution_count": 13,
      "outputs": [
        {
          "output_type": "stream",
          "name": "stdout",
          "text": [
            "                      Hotel Name  Rating Rating Description  Reviews  \\\n",
            "Hotel Name                                                             \n",
            "Gokulam Park        Gokulam Park     4.1          Very Good     1058   \n",
            "Sterling Munnar  Sterling Munnar     3.8          Very Good     1088   \n",
            "\n",
            "                 Star Rating        Location Nearest Landmark  \\\n",
            "Hotel Name                                                      \n",
            "Gokulam Park             4.0  Chithirapuram       city centre   \n",
            "Sterling Munnar          4.0    Chinnakanal       city centre   \n",
            "\n",
            "                Distance to Landmark  Price  Tax  \n",
            "Hotel Name                                        \n",
            "Gokulam Park                10.2 km   2,728  574  \n",
            "Sterling Munnar             19.2 km   4,451  969  \n"
          ]
        },
        {
          "output_type": "execute_result",
          "data": {
            "text/plain": [
              "                                           Hotel Name  Rating  \\\n",
              "0                                        Gokulam Park     4.1   \n",
              "1                                     Sterling Munnar     3.8   \n",
              "2                                    Issacs Residency     4.1   \n",
              "3                                   Tea Valley Resort     4.3   \n",
              "4                                         Grand Plaza     4.3   \n",
              "..                                                ...     ...   \n",
              "69                      The Fog Munnar (Resort & Spa)     4.5   \n",
              "70               Skylark Holidays | Rooms & Caretaker     4.1   \n",
              "71  Deshadan Mountain Resort- The highest resort i...     4.3   \n",
              "72                          Nature Zone Jungle Resort     4.1   \n",
              "73    Lumino Highrange Homestay | Room & Guided Treks     3.2   \n",
              "\n",
              "   Rating Description  Reviews  Star Rating         Location  \\\n",
              "0           Very Good     1058          4.0   Chithirapuram    \n",
              "1           Very Good     1088          4.0     Chinnakanal    \n",
              "2           Very Good      322          3.0  Central Munnar    \n",
              "3           Excellent     1337          4.0      Pallivasal    \n",
              "4           Excellent     1058          4.0      Moolakadai    \n",
              "..                ...      ...          ...              ...   \n",
              "69          Excellent      292          5.0   Ettycity Road    \n",
              "70          Very Good       17          NaN     Chinnakanal    \n",
              "71          Excellent      395          4.0      Pallivasal    \n",
              "72          Very Good      187          4.0      Pallivasal    \n",
              "73               Good      221          NaN      Moolakadai    \n",
              "\n",
              "      Nearest Landmark Distance to Landmark  Price    Tax  \n",
              "0          city centre             10.2 km   2,728    574  \n",
              "1          city centre             19.2 km   4,451    969  \n",
              "2   Attukal Waterfalls               950 m   2,758    684  \n",
              "3          city centre              4.8 km   2,675    756  \n",
              "4   Attukal Waterfalls              1.9 km   3,203    654  \n",
              "..                 ...                  ...    ...    ...  \n",
              "69         city centre             13.2 km   8,103  2,178  \n",
              "70         city centre             20.6 km   3,317    684  \n",
              "71         city centre              5.8 km   3,953    808  \n",
              "72         city centre              6.6 km   6,862  2,124  \n",
              "73  Attukal Waterfalls              1.3 km   1,014    223  \n",
              "\n",
              "[74 rows x 10 columns]"
            ],
            "text/html": [
              "\n",
              "  <div id=\"df-56c21399-fac5-4fcb-b545-693373e880b5\" class=\"colab-df-container\">\n",
              "    <div>\n",
              "<style scoped>\n",
              "    .dataframe tbody tr th:only-of-type {\n",
              "        vertical-align: middle;\n",
              "    }\n",
              "\n",
              "    .dataframe tbody tr th {\n",
              "        vertical-align: top;\n",
              "    }\n",
              "\n",
              "    .dataframe thead th {\n",
              "        text-align: right;\n",
              "    }\n",
              "</style>\n",
              "<table border=\"1\" class=\"dataframe\">\n",
              "  <thead>\n",
              "    <tr style=\"text-align: right;\">\n",
              "      <th></th>\n",
              "      <th>Hotel Name</th>\n",
              "      <th>Rating</th>\n",
              "      <th>Rating Description</th>\n",
              "      <th>Reviews</th>\n",
              "      <th>Star Rating</th>\n",
              "      <th>Location</th>\n",
              "      <th>Nearest Landmark</th>\n",
              "      <th>Distance to Landmark</th>\n",
              "      <th>Price</th>\n",
              "      <th>Tax</th>\n",
              "    </tr>\n",
              "  </thead>\n",
              "  <tbody>\n",
              "    <tr>\n",
              "      <th>0</th>\n",
              "      <td>Gokulam Park</td>\n",
              "      <td>4.1</td>\n",
              "      <td>Very Good</td>\n",
              "      <td>1058</td>\n",
              "      <td>4.0</td>\n",
              "      <td>Chithirapuram</td>\n",
              "      <td>city centre</td>\n",
              "      <td>10.2 km</td>\n",
              "      <td>2,728</td>\n",
              "      <td>574</td>\n",
              "    </tr>\n",
              "    <tr>\n",
              "      <th>1</th>\n",
              "      <td>Sterling Munnar</td>\n",
              "      <td>3.8</td>\n",
              "      <td>Very Good</td>\n",
              "      <td>1088</td>\n",
              "      <td>4.0</td>\n",
              "      <td>Chinnakanal</td>\n",
              "      <td>city centre</td>\n",
              "      <td>19.2 km</td>\n",
              "      <td>4,451</td>\n",
              "      <td>969</td>\n",
              "    </tr>\n",
              "    <tr>\n",
              "      <th>2</th>\n",
              "      <td>Issacs Residency</td>\n",
              "      <td>4.1</td>\n",
              "      <td>Very Good</td>\n",
              "      <td>322</td>\n",
              "      <td>3.0</td>\n",
              "      <td>Central Munnar</td>\n",
              "      <td>Attukal Waterfalls</td>\n",
              "      <td>950 m</td>\n",
              "      <td>2,758</td>\n",
              "      <td>684</td>\n",
              "    </tr>\n",
              "    <tr>\n",
              "      <th>3</th>\n",
              "      <td>Tea Valley Resort</td>\n",
              "      <td>4.3</td>\n",
              "      <td>Excellent</td>\n",
              "      <td>1337</td>\n",
              "      <td>4.0</td>\n",
              "      <td>Pallivasal</td>\n",
              "      <td>city centre</td>\n",
              "      <td>4.8 km</td>\n",
              "      <td>2,675</td>\n",
              "      <td>756</td>\n",
              "    </tr>\n",
              "    <tr>\n",
              "      <th>4</th>\n",
              "      <td>Grand Plaza</td>\n",
              "      <td>4.3</td>\n",
              "      <td>Excellent</td>\n",
              "      <td>1058</td>\n",
              "      <td>4.0</td>\n",
              "      <td>Moolakadai</td>\n",
              "      <td>Attukal Waterfalls</td>\n",
              "      <td>1.9 km</td>\n",
              "      <td>3,203</td>\n",
              "      <td>654</td>\n",
              "    </tr>\n",
              "    <tr>\n",
              "      <th>...</th>\n",
              "      <td>...</td>\n",
              "      <td>...</td>\n",
              "      <td>...</td>\n",
              "      <td>...</td>\n",
              "      <td>...</td>\n",
              "      <td>...</td>\n",
              "      <td>...</td>\n",
              "      <td>...</td>\n",
              "      <td>...</td>\n",
              "      <td>...</td>\n",
              "    </tr>\n",
              "    <tr>\n",
              "      <th>69</th>\n",
              "      <td>The Fog Munnar (Resort &amp; Spa)</td>\n",
              "      <td>4.5</td>\n",
              "      <td>Excellent</td>\n",
              "      <td>292</td>\n",
              "      <td>5.0</td>\n",
              "      <td>Ettycity Road</td>\n",
              "      <td>city centre</td>\n",
              "      <td>13.2 km</td>\n",
              "      <td>8,103</td>\n",
              "      <td>2,178</td>\n",
              "    </tr>\n",
              "    <tr>\n",
              "      <th>70</th>\n",
              "      <td>Skylark Holidays | Rooms &amp; Caretaker</td>\n",
              "      <td>4.1</td>\n",
              "      <td>Very Good</td>\n",
              "      <td>17</td>\n",
              "      <td>NaN</td>\n",
              "      <td>Chinnakanal</td>\n",
              "      <td>city centre</td>\n",
              "      <td>20.6 km</td>\n",
              "      <td>3,317</td>\n",
              "      <td>684</td>\n",
              "    </tr>\n",
              "    <tr>\n",
              "      <th>71</th>\n",
              "      <td>Deshadan Mountain Resort- The highest resort i...</td>\n",
              "      <td>4.3</td>\n",
              "      <td>Excellent</td>\n",
              "      <td>395</td>\n",
              "      <td>4.0</td>\n",
              "      <td>Pallivasal</td>\n",
              "      <td>city centre</td>\n",
              "      <td>5.8 km</td>\n",
              "      <td>3,953</td>\n",
              "      <td>808</td>\n",
              "    </tr>\n",
              "    <tr>\n",
              "      <th>72</th>\n",
              "      <td>Nature Zone Jungle Resort</td>\n",
              "      <td>4.1</td>\n",
              "      <td>Very Good</td>\n",
              "      <td>187</td>\n",
              "      <td>4.0</td>\n",
              "      <td>Pallivasal</td>\n",
              "      <td>city centre</td>\n",
              "      <td>6.6 km</td>\n",
              "      <td>6,862</td>\n",
              "      <td>2,124</td>\n",
              "    </tr>\n",
              "    <tr>\n",
              "      <th>73</th>\n",
              "      <td>Lumino Highrange Homestay | Room &amp; Guided Treks</td>\n",
              "      <td>3.2</td>\n",
              "      <td>Good</td>\n",
              "      <td>221</td>\n",
              "      <td>NaN</td>\n",
              "      <td>Moolakadai</td>\n",
              "      <td>Attukal Waterfalls</td>\n",
              "      <td>1.3 km</td>\n",
              "      <td>1,014</td>\n",
              "      <td>223</td>\n",
              "    </tr>\n",
              "  </tbody>\n",
              "</table>\n",
              "<p>74 rows × 10 columns</p>\n",
              "</div>\n",
              "    <div class=\"colab-df-buttons\">\n",
              "\n",
              "  <div class=\"colab-df-container\">\n",
              "    <button class=\"colab-df-convert\" onclick=\"convertToInteractive('df-56c21399-fac5-4fcb-b545-693373e880b5')\"\n",
              "            title=\"Convert this dataframe to an interactive table.\"\n",
              "            style=\"display:none;\">\n",
              "\n",
              "  <svg xmlns=\"http://www.w3.org/2000/svg\" height=\"24px\" viewBox=\"0 -960 960 960\">\n",
              "    <path d=\"M120-120v-720h720v720H120Zm60-500h600v-160H180v160Zm220 220h160v-160H400v160Zm0 220h160v-160H400v160ZM180-400h160v-160H180v160Zm440 0h160v-160H620v160ZM180-180h160v-160H180v160Zm440 0h160v-160H620v160Z\"/>\n",
              "  </svg>\n",
              "    </button>\n",
              "\n",
              "  <style>\n",
              "    .colab-df-container {\n",
              "      display:flex;\n",
              "      gap: 12px;\n",
              "    }\n",
              "\n",
              "    .colab-df-convert {\n",
              "      background-color: #E8F0FE;\n",
              "      border: none;\n",
              "      border-radius: 50%;\n",
              "      cursor: pointer;\n",
              "      display: none;\n",
              "      fill: #1967D2;\n",
              "      height: 32px;\n",
              "      padding: 0 0 0 0;\n",
              "      width: 32px;\n",
              "    }\n",
              "\n",
              "    .colab-df-convert:hover {\n",
              "      background-color: #E2EBFA;\n",
              "      box-shadow: 0px 1px 2px rgba(60, 64, 67, 0.3), 0px 1px 3px 1px rgba(60, 64, 67, 0.15);\n",
              "      fill: #174EA6;\n",
              "    }\n",
              "\n",
              "    .colab-df-buttons div {\n",
              "      margin-bottom: 4px;\n",
              "    }\n",
              "\n",
              "    [theme=dark] .colab-df-convert {\n",
              "      background-color: #3B4455;\n",
              "      fill: #D2E3FC;\n",
              "    }\n",
              "\n",
              "    [theme=dark] .colab-df-convert:hover {\n",
              "      background-color: #434B5C;\n",
              "      box-shadow: 0px 1px 3px 1px rgba(0, 0, 0, 0.15);\n",
              "      filter: drop-shadow(0px 1px 2px rgba(0, 0, 0, 0.3));\n",
              "      fill: #FFFFFF;\n",
              "    }\n",
              "  </style>\n",
              "\n",
              "    <script>\n",
              "      const buttonEl =\n",
              "        document.querySelector('#df-56c21399-fac5-4fcb-b545-693373e880b5 button.colab-df-convert');\n",
              "      buttonEl.style.display =\n",
              "        google.colab.kernel.accessAllowed ? 'block' : 'none';\n",
              "\n",
              "      async function convertToInteractive(key) {\n",
              "        const element = document.querySelector('#df-56c21399-fac5-4fcb-b545-693373e880b5');\n",
              "        const dataTable =\n",
              "          await google.colab.kernel.invokeFunction('convertToInteractive',\n",
              "                                                    [key], {});\n",
              "        if (!dataTable) return;\n",
              "\n",
              "        const docLinkHtml = 'Like what you see? Visit the ' +\n",
              "          '<a target=\"_blank\" href=https://colab.research.google.com/notebooks/data_table.ipynb>data table notebook</a>'\n",
              "          + ' to learn more about interactive tables.';\n",
              "        element.innerHTML = '';\n",
              "        dataTable['output_type'] = 'display_data';\n",
              "        await google.colab.output.renderOutput(dataTable, element);\n",
              "        const docLink = document.createElement('div');\n",
              "        docLink.innerHTML = docLinkHtml;\n",
              "        element.appendChild(docLink);\n",
              "      }\n",
              "    </script>\n",
              "  </div>\n",
              "\n",
              "\n",
              "<div id=\"df-c463816c-75d0-4b7f-a695-fec9887aabd6\">\n",
              "  <button class=\"colab-df-quickchart\" onclick=\"quickchart('df-c463816c-75d0-4b7f-a695-fec9887aabd6')\"\n",
              "            title=\"Suggest charts\"\n",
              "            style=\"display:none;\">\n",
              "\n",
              "<svg xmlns=\"http://www.w3.org/2000/svg\" height=\"24px\"viewBox=\"0 0 24 24\"\n",
              "     width=\"24px\">\n",
              "    <g>\n",
              "        <path d=\"M19 3H5c-1.1 0-2 .9-2 2v14c0 1.1.9 2 2 2h14c1.1 0 2-.9 2-2V5c0-1.1-.9-2-2-2zM9 17H7v-7h2v7zm4 0h-2V7h2v10zm4 0h-2v-4h2v4z\"/>\n",
              "    </g>\n",
              "</svg>\n",
              "  </button>\n",
              "\n",
              "<style>\n",
              "  .colab-df-quickchart {\n",
              "      --bg-color: #E8F0FE;\n",
              "      --fill-color: #1967D2;\n",
              "      --hover-bg-color: #E2EBFA;\n",
              "      --hover-fill-color: #174EA6;\n",
              "      --disabled-fill-color: #AAA;\n",
              "      --disabled-bg-color: #DDD;\n",
              "  }\n",
              "\n",
              "  [theme=dark] .colab-df-quickchart {\n",
              "      --bg-color: #3B4455;\n",
              "      --fill-color: #D2E3FC;\n",
              "      --hover-bg-color: #434B5C;\n",
              "      --hover-fill-color: #FFFFFF;\n",
              "      --disabled-bg-color: #3B4455;\n",
              "      --disabled-fill-color: #666;\n",
              "  }\n",
              "\n",
              "  .colab-df-quickchart {\n",
              "    background-color: var(--bg-color);\n",
              "    border: none;\n",
              "    border-radius: 50%;\n",
              "    cursor: pointer;\n",
              "    display: none;\n",
              "    fill: var(--fill-color);\n",
              "    height: 32px;\n",
              "    padding: 0;\n",
              "    width: 32px;\n",
              "  }\n",
              "\n",
              "  .colab-df-quickchart:hover {\n",
              "    background-color: var(--hover-bg-color);\n",
              "    box-shadow: 0 1px 2px rgba(60, 64, 67, 0.3), 0 1px 3px 1px rgba(60, 64, 67, 0.15);\n",
              "    fill: var(--button-hover-fill-color);\n",
              "  }\n",
              "\n",
              "  .colab-df-quickchart-complete:disabled,\n",
              "  .colab-df-quickchart-complete:disabled:hover {\n",
              "    background-color: var(--disabled-bg-color);\n",
              "    fill: var(--disabled-fill-color);\n",
              "    box-shadow: none;\n",
              "  }\n",
              "\n",
              "  .colab-df-spinner {\n",
              "    border: 2px solid var(--fill-color);\n",
              "    border-color: transparent;\n",
              "    border-bottom-color: var(--fill-color);\n",
              "    animation:\n",
              "      spin 1s steps(1) infinite;\n",
              "  }\n",
              "\n",
              "  @keyframes spin {\n",
              "    0% {\n",
              "      border-color: transparent;\n",
              "      border-bottom-color: var(--fill-color);\n",
              "      border-left-color: var(--fill-color);\n",
              "    }\n",
              "    20% {\n",
              "      border-color: transparent;\n",
              "      border-left-color: var(--fill-color);\n",
              "      border-top-color: var(--fill-color);\n",
              "    }\n",
              "    30% {\n",
              "      border-color: transparent;\n",
              "      border-left-color: var(--fill-color);\n",
              "      border-top-color: var(--fill-color);\n",
              "      border-right-color: var(--fill-color);\n",
              "    }\n",
              "    40% {\n",
              "      border-color: transparent;\n",
              "      border-right-color: var(--fill-color);\n",
              "      border-top-color: var(--fill-color);\n",
              "    }\n",
              "    60% {\n",
              "      border-color: transparent;\n",
              "      border-right-color: var(--fill-color);\n",
              "    }\n",
              "    80% {\n",
              "      border-color: transparent;\n",
              "      border-right-color: var(--fill-color);\n",
              "      border-bottom-color: var(--fill-color);\n",
              "    }\n",
              "    90% {\n",
              "      border-color: transparent;\n",
              "      border-bottom-color: var(--fill-color);\n",
              "    }\n",
              "  }\n",
              "</style>\n",
              "\n",
              "  <script>\n",
              "    async function quickchart(key) {\n",
              "      const quickchartButtonEl =\n",
              "        document.querySelector('#' + key + ' button');\n",
              "      quickchartButtonEl.disabled = true;  // To prevent multiple clicks.\n",
              "      quickchartButtonEl.classList.add('colab-df-spinner');\n",
              "      try {\n",
              "        const charts = await google.colab.kernel.invokeFunction(\n",
              "            'suggestCharts', [key], {});\n",
              "      } catch (error) {\n",
              "        console.error('Error during call to suggestCharts:', error);\n",
              "      }\n",
              "      quickchartButtonEl.classList.remove('colab-df-spinner');\n",
              "      quickchartButtonEl.classList.add('colab-df-quickchart-complete');\n",
              "    }\n",
              "    (() => {\n",
              "      let quickchartButtonEl =\n",
              "        document.querySelector('#df-c463816c-75d0-4b7f-a695-fec9887aabd6 button');\n",
              "      quickchartButtonEl.style.display =\n",
              "        google.colab.kernel.accessAllowed ? 'block' : 'none';\n",
              "    })();\n",
              "  </script>\n",
              "</div>\n",
              "\n",
              "  <div id=\"id_06b0871c-de9a-4b0b-ad16-20180363b29d\">\n",
              "    <style>\n",
              "      .colab-df-generate {\n",
              "        background-color: #E8F0FE;\n",
              "        border: none;\n",
              "        border-radius: 50%;\n",
              "        cursor: pointer;\n",
              "        display: none;\n",
              "        fill: #1967D2;\n",
              "        height: 32px;\n",
              "        padding: 0 0 0 0;\n",
              "        width: 32px;\n",
              "      }\n",
              "\n",
              "      .colab-df-generate:hover {\n",
              "        background-color: #E2EBFA;\n",
              "        box-shadow: 0px 1px 2px rgba(60, 64, 67, 0.3), 0px 1px 3px 1px rgba(60, 64, 67, 0.15);\n",
              "        fill: #174EA6;\n",
              "      }\n",
              "\n",
              "      [theme=dark] .colab-df-generate {\n",
              "        background-color: #3B4455;\n",
              "        fill: #D2E3FC;\n",
              "      }\n",
              "\n",
              "      [theme=dark] .colab-df-generate:hover {\n",
              "        background-color: #434B5C;\n",
              "        box-shadow: 0px 1px 3px 1px rgba(0, 0, 0, 0.15);\n",
              "        filter: drop-shadow(0px 1px 2px rgba(0, 0, 0, 0.3));\n",
              "        fill: #FFFFFF;\n",
              "      }\n",
              "    </style>\n",
              "    <button class=\"colab-df-generate\" onclick=\"generateWithVariable('df')\"\n",
              "            title=\"Generate code using this dataframe.\"\n",
              "            style=\"display:none;\">\n",
              "\n",
              "  <svg xmlns=\"http://www.w3.org/2000/svg\" height=\"24px\"viewBox=\"0 0 24 24\"\n",
              "       width=\"24px\">\n",
              "    <path d=\"M7,19H8.4L18.45,9,17,7.55,7,17.6ZM5,21V16.75L18.45,3.32a2,2,0,0,1,2.83,0l1.4,1.43a1.91,1.91,0,0,1,.58,1.4,1.91,1.91,0,0,1-.58,1.4L9.25,21ZM18.45,9,17,7.55Zm-12,3A5.31,5.31,0,0,0,4.9,8.1,5.31,5.31,0,0,0,1,6.5,5.31,5.31,0,0,0,4.9,4.9,5.31,5.31,0,0,0,6.5,1,5.31,5.31,0,0,0,8.1,4.9,5.31,5.31,0,0,0,12,6.5,5.46,5.46,0,0,0,6.5,12Z\"/>\n",
              "  </svg>\n",
              "    </button>\n",
              "    <script>\n",
              "      (() => {\n",
              "      const buttonEl =\n",
              "        document.querySelector('#id_06b0871c-de9a-4b0b-ad16-20180363b29d button.colab-df-generate');\n",
              "      buttonEl.style.display =\n",
              "        google.colab.kernel.accessAllowed ? 'block' : 'none';\n",
              "\n",
              "      buttonEl.onclick = () => {\n",
              "        google.colab.notebook.generateWithVariable('df');\n",
              "      }\n",
              "      })();\n",
              "    </script>\n",
              "  </div>\n",
              "\n",
              "    </div>\n",
              "  </div>\n"
            ]
          },
          "metadata": {},
          "execution_count": 13
        }
      ]
    },
    {
      "cell_type": "code",
      "source": [
        "from timeit import default_timer as timer\n",
        "start = timer()\n",
        "df.info()\n",
        "print(timer() - start)"
      ],
      "metadata": {
        "colab": {
          "base_uri": "https://localhost:8080/"
        },
        "id": "boCLJLya5LOI",
        "outputId": "0d9ada9c-6c18-4bef-a457-24ee51149530"
      },
      "execution_count": 14,
      "outputs": [
        {
          "output_type": "stream",
          "name": "stdout",
          "text": [
            "<class 'pandas.core.frame.DataFrame'>\n",
            "RangeIndex: 74 entries, 0 to 73\n",
            "Data columns (total 10 columns):\n",
            " #   Column                Non-Null Count  Dtype  \n",
            "---  ------                --------------  -----  \n",
            " 0   Hotel Name            74 non-null     object \n",
            " 1   Rating                74 non-null     float64\n",
            " 2   Rating Description    74 non-null     object \n",
            " 3   Reviews               74 non-null     int64  \n",
            " 4   Star Rating           57 non-null     float64\n",
            " 5   Location              74 non-null     object \n",
            " 6   Nearest Landmark      74 non-null     object \n",
            " 7   Distance to Landmark  74 non-null     object \n",
            " 8   Price                 74 non-null     object \n",
            " 9   Tax                   72 non-null     object \n",
            "dtypes: float64(2), int64(1), object(7)\n",
            "memory usage: 5.9+ KB\n",
            "0.012050792000081856\n"
          ]
        }
      ]
    },
    {
      "cell_type": "code",
      "source": [
        "df.nunique()"
      ],
      "metadata": {
        "colab": {
          "base_uri": "https://localhost:8080/"
        },
        "id": "nGeE76NOF05q",
        "outputId": "ef4eeb22-127f-4707-91f3-fd46efe1d579"
      },
      "execution_count": 15,
      "outputs": [
        {
          "output_type": "execute_result",
          "data": {
            "text/plain": [
              "Hotel Name              74\n",
              "Rating                  18\n",
              "Rating Description       4\n",
              "Reviews                 70\n",
              "Star Rating              4\n",
              "Location                22\n",
              "Nearest Landmark         2\n",
              "Distance to Landmark    57\n",
              "Price                   72\n",
              "Tax                     70\n",
              "dtype: int64"
            ]
          },
          "metadata": {},
          "execution_count": 15
        }
      ]
    },
    {
      "cell_type": "code",
      "source": [
        "start = timer()\n",
        "df['Star Rating'].isna().sum()\n",
        "print(timer() - start)"
      ],
      "metadata": {
        "colab": {
          "base_uri": "https://localhost:8080/"
        },
        "id": "lbcpqX8iF4jR",
        "outputId": "406dba12-f844-47fd-d35d-4b60987e5add"
      },
      "execution_count": 19,
      "outputs": [
        {
          "output_type": "stream",
          "name": "stdout",
          "text": [
            "0.0009425700000065262\n"
          ]
        }
      ]
    },
    {
      "cell_type": "code",
      "source": [
        "df['Tax'].astype('float64')"
      ],
      "metadata": {
        "colab": {
          "base_uri": "https://localhost:8080/"
        },
        "id": "qiZTGrzCGGj6",
        "outputId": "d564418c-2fb3-412a-9366-66be526fa45b"
      },
      "execution_count": 23,
      "outputs": [
        {
          "output_type": "execute_result",
          "data": {
            "text/plain": [
              "0      574.0\n",
              "1      969.0\n",
              "2      684.0\n",
              "3      756.0\n",
              "4      654.0\n",
              "       ...  \n",
              "69    2178.0\n",
              "70     684.0\n",
              "71     808.0\n",
              "72    2124.0\n",
              "73     223.0\n",
              "Name: Tax, Length: 74, dtype: float64"
            ]
          },
          "metadata": {},
          "execution_count": 23
        }
      ]
    },
    {
      "cell_type": "code",
      "source": [
        "print(type(df['Tax'].iloc[0]))\n",
        "df['Tax'] = df['Tax'].apply(lambda x: str(x))\n",
        "df['Tax']= df['Tax'].apply(lambda x: x.replace(\",\", \"\"))\n",
        "df['Tax'] = df['Tax'].astype('float64')\n",
        "df['Tax']"
      ],
      "metadata": {
        "colab": {
          "base_uri": "https://localhost:8080/"
        },
        "id": "Hy1Nv-pxIcV5",
        "outputId": "6bb687c9-fe70-41c4-bc79-369267657e67"
      },
      "execution_count": 22,
      "outputs": [
        {
          "output_type": "stream",
          "name": "stdout",
          "text": [
            "<class 'numpy.float64'>\n"
          ]
        },
        {
          "output_type": "execute_result",
          "data": {
            "text/plain": [
              "0      574.0\n",
              "1      969.0\n",
              "2      684.0\n",
              "3      756.0\n",
              "4      654.0\n",
              "       ...  \n",
              "69    2178.0\n",
              "70     684.0\n",
              "71     808.0\n",
              "72    2124.0\n",
              "73     223.0\n",
              "Name: Tax, Length: 74, dtype: float64"
            ]
          },
          "metadata": {},
          "execution_count": 22
        }
      ]
    },
    {
      "cell_type": "code",
      "source": [
        "df.info()"
      ],
      "metadata": {
        "colab": {
          "base_uri": "https://localhost:8080/"
        },
        "id": "2DmWKGA2Jp7a",
        "outputId": "89cd3716-c001-4d50-b4f8-8904fb5700a0"
      },
      "execution_count": 24,
      "outputs": [
        {
          "output_type": "stream",
          "name": "stdout",
          "text": [
            "<class 'pandas.core.frame.DataFrame'>\n",
            "RangeIndex: 74 entries, 0 to 73\n",
            "Data columns (total 10 columns):\n",
            " #   Column                Non-Null Count  Dtype  \n",
            "---  ------                --------------  -----  \n",
            " 0   Hotel Name            74 non-null     object \n",
            " 1   Rating                74 non-null     float64\n",
            " 2   Rating Description    74 non-null     object \n",
            " 3   Reviews               74 non-null     int64  \n",
            " 4   Star Rating           57 non-null     float64\n",
            " 5   Location              74 non-null     object \n",
            " 6   Nearest Landmark      74 non-null     object \n",
            " 7   Distance to Landmark  74 non-null     object \n",
            " 8   Price                 74 non-null     object \n",
            " 9   Tax                   72 non-null     float64\n",
            "dtypes: float64(3), int64(1), object(6)\n",
            "memory usage: 5.9+ KB\n"
          ]
        }
      ]
    },
    {
      "cell_type": "code",
      "source": [
        "df['Price'].astype('float64')"
      ],
      "metadata": {
        "colab": {
          "base_uri": "https://localhost:8080/"
        },
        "id": "gqD44COnnzyj",
        "outputId": "a4641d82-066a-476e-d76a-c998775c75fc"
      },
      "execution_count": 27,
      "outputs": [
        {
          "output_type": "execute_result",
          "data": {
            "text/plain": [
              "0     2728.0\n",
              "1     4451.0\n",
              "2     2758.0\n",
              "3     2675.0\n",
              "4     3203.0\n",
              "       ...  \n",
              "69    8103.0\n",
              "70    3317.0\n",
              "71    3953.0\n",
              "72    6862.0\n",
              "73    1014.0\n",
              "Name: Price, Length: 74, dtype: float64"
            ]
          },
          "metadata": {},
          "execution_count": 27
        }
      ]
    },
    {
      "cell_type": "code",
      "source": [
        "df['Price'] = df['Price'].apply(lambda x: str(x))\n",
        "df['Price']= df['Price'].apply(lambda x: x.replace(\",\", \"\"))\n",
        "df['Price'] = df['Price'].astype('float64')\n",
        "df['Price']"
      ],
      "metadata": {
        "id": "J_ffEtvJoIbK",
        "colab": {
          "base_uri": "https://localhost:8080/"
        },
        "outputId": "56f7322e-47cd-4273-b14a-548639224f57"
      },
      "execution_count": 26,
      "outputs": [
        {
          "output_type": "execute_result",
          "data": {
            "text/plain": [
              "0     2728.0\n",
              "1     4451.0\n",
              "2     2758.0\n",
              "3     2675.0\n",
              "4     3203.0\n",
              "       ...  \n",
              "69    8103.0\n",
              "70    3317.0\n",
              "71    3953.0\n",
              "72    6862.0\n",
              "73    1014.0\n",
              "Name: Price, Length: 74, dtype: float64"
            ]
          },
          "metadata": {},
          "execution_count": 26
        }
      ]
    },
    {
      "cell_type": "code",
      "source": [
        "df.info()"
      ],
      "metadata": {
        "id": "oCPCXZChoRrj",
        "colab": {
          "base_uri": "https://localhost:8080/"
        },
        "outputId": "9f870779-e8f2-437b-8875-c1c510600563"
      },
      "execution_count": 28,
      "outputs": [
        {
          "output_type": "stream",
          "name": "stdout",
          "text": [
            "<class 'pandas.core.frame.DataFrame'>\n",
            "RangeIndex: 74 entries, 0 to 73\n",
            "Data columns (total 10 columns):\n",
            " #   Column                Non-Null Count  Dtype  \n",
            "---  ------                --------------  -----  \n",
            " 0   Hotel Name            74 non-null     object \n",
            " 1   Rating                74 non-null     float64\n",
            " 2   Rating Description    74 non-null     object \n",
            " 3   Reviews               74 non-null     int64  \n",
            " 4   Star Rating           57 non-null     float64\n",
            " 5   Location              74 non-null     object \n",
            " 6   Nearest Landmark      74 non-null     object \n",
            " 7   Distance to Landmark  74 non-null     object \n",
            " 8   Price                 74 non-null     float64\n",
            " 9   Tax                   72 non-null     float64\n",
            "dtypes: float64(4), int64(1), object(5)\n",
            "memory usage: 5.9+ KB\n"
          ]
        }
      ]
    },
    {
      "cell_type": "code",
      "source": [
        "df['Distance to Landmark'].astype('float64')"
      ],
      "metadata": {
        "id": "-7W_6ozIoT4b",
        "colab": {
          "base_uri": "https://localhost:8080/"
        },
        "outputId": "593969de-d86b-4004-d260-eb7a873a3fa9"
      },
      "execution_count": 31,
      "outputs": [
        {
          "output_type": "execute_result",
          "data": {
            "text/plain": [
              "0     10.20\n",
              "1     19.20\n",
              "2      0.95\n",
              "3      4.80\n",
              "4      1.90\n",
              "      ...  \n",
              "69    13.20\n",
              "70    20.60\n",
              "71     5.80\n",
              "72     6.60\n",
              "73     1.30\n",
              "Name: Distance to Landmark, Length: 74, dtype: float64"
            ]
          },
          "metadata": {},
          "execution_count": 31
        }
      ]
    },
    {
      "cell_type": "code",
      "source": [
        "def get_dist_in_km(x):\n",
        "    if x.split()[1] == 'm':\n",
        "        return float(x.split()[0])/1000\n",
        "    elif x.split()[1] == 'km':\n",
        "        return x.split()[0]\n",
        "\n",
        "df['Distance to Landmark'] = df['Distance to Landmark'].apply(get_dist_in_km)"
      ],
      "metadata": {
        "id": "Bxja9d_xob26"
      },
      "execution_count": 30,
      "outputs": []
    },
    {
      "cell_type": "code",
      "source": [
        "df"
      ],
      "metadata": {
        "colab": {
          "base_uri": "https://localhost:8080/",
          "height": 423
        },
        "id": "CgZtO4A8Lnzb",
        "outputId": "9de95098-9b98-452c-906e-aeaa8b04a8b0"
      },
      "execution_count": 32,
      "outputs": [
        {
          "output_type": "execute_result",
          "data": {
            "text/plain": [
              "                                           Hotel Name  Rating  \\\n",
              "0                                        Gokulam Park     4.1   \n",
              "1                                     Sterling Munnar     3.8   \n",
              "2                                    Issacs Residency     4.1   \n",
              "3                                   Tea Valley Resort     4.3   \n",
              "4                                         Grand Plaza     4.3   \n",
              "..                                                ...     ...   \n",
              "69                      The Fog Munnar (Resort & Spa)     4.5   \n",
              "70               Skylark Holidays | Rooms & Caretaker     4.1   \n",
              "71  Deshadan Mountain Resort- The highest resort i...     4.3   \n",
              "72                          Nature Zone Jungle Resort     4.1   \n",
              "73    Lumino Highrange Homestay | Room & Guided Treks     3.2   \n",
              "\n",
              "   Rating Description  Reviews  Star Rating         Location  \\\n",
              "0           Very Good     1058          4.0   Chithirapuram    \n",
              "1           Very Good     1088          4.0     Chinnakanal    \n",
              "2           Very Good      322          3.0  Central Munnar    \n",
              "3           Excellent     1337          4.0      Pallivasal    \n",
              "4           Excellent     1058          4.0      Moolakadai    \n",
              "..                ...      ...          ...              ...   \n",
              "69          Excellent      292          5.0   Ettycity Road    \n",
              "70          Very Good       17          NaN     Chinnakanal    \n",
              "71          Excellent      395          4.0      Pallivasal    \n",
              "72          Very Good      187          4.0      Pallivasal    \n",
              "73               Good      221          NaN      Moolakadai    \n",
              "\n",
              "      Nearest Landmark Distance to Landmark   Price     Tax  \n",
              "0          city centre                 10.2  2728.0   574.0  \n",
              "1          city centre                 19.2  4451.0   969.0  \n",
              "2   Attukal Waterfalls                 0.95  2758.0   684.0  \n",
              "3          city centre                  4.8  2675.0   756.0  \n",
              "4   Attukal Waterfalls                  1.9  3203.0   654.0  \n",
              "..                 ...                  ...     ...     ...  \n",
              "69         city centre                 13.2  8103.0  2178.0  \n",
              "70         city centre                 20.6  3317.0   684.0  \n",
              "71         city centre                  5.8  3953.0   808.0  \n",
              "72         city centre                  6.6  6862.0  2124.0  \n",
              "73  Attukal Waterfalls                  1.3  1014.0   223.0  \n",
              "\n",
              "[74 rows x 10 columns]"
            ],
            "text/html": [
              "\n",
              "  <div id=\"df-ec40f364-afbc-421a-8039-c653adb8fc56\" class=\"colab-df-container\">\n",
              "    <div>\n",
              "<style scoped>\n",
              "    .dataframe tbody tr th:only-of-type {\n",
              "        vertical-align: middle;\n",
              "    }\n",
              "\n",
              "    .dataframe tbody tr th {\n",
              "        vertical-align: top;\n",
              "    }\n",
              "\n",
              "    .dataframe thead th {\n",
              "        text-align: right;\n",
              "    }\n",
              "</style>\n",
              "<table border=\"1\" class=\"dataframe\">\n",
              "  <thead>\n",
              "    <tr style=\"text-align: right;\">\n",
              "      <th></th>\n",
              "      <th>Hotel Name</th>\n",
              "      <th>Rating</th>\n",
              "      <th>Rating Description</th>\n",
              "      <th>Reviews</th>\n",
              "      <th>Star Rating</th>\n",
              "      <th>Location</th>\n",
              "      <th>Nearest Landmark</th>\n",
              "      <th>Distance to Landmark</th>\n",
              "      <th>Price</th>\n",
              "      <th>Tax</th>\n",
              "    </tr>\n",
              "  </thead>\n",
              "  <tbody>\n",
              "    <tr>\n",
              "      <th>0</th>\n",
              "      <td>Gokulam Park</td>\n",
              "      <td>4.1</td>\n",
              "      <td>Very Good</td>\n",
              "      <td>1058</td>\n",
              "      <td>4.0</td>\n",
              "      <td>Chithirapuram</td>\n",
              "      <td>city centre</td>\n",
              "      <td>10.2</td>\n",
              "      <td>2728.0</td>\n",
              "      <td>574.0</td>\n",
              "    </tr>\n",
              "    <tr>\n",
              "      <th>1</th>\n",
              "      <td>Sterling Munnar</td>\n",
              "      <td>3.8</td>\n",
              "      <td>Very Good</td>\n",
              "      <td>1088</td>\n",
              "      <td>4.0</td>\n",
              "      <td>Chinnakanal</td>\n",
              "      <td>city centre</td>\n",
              "      <td>19.2</td>\n",
              "      <td>4451.0</td>\n",
              "      <td>969.0</td>\n",
              "    </tr>\n",
              "    <tr>\n",
              "      <th>2</th>\n",
              "      <td>Issacs Residency</td>\n",
              "      <td>4.1</td>\n",
              "      <td>Very Good</td>\n",
              "      <td>322</td>\n",
              "      <td>3.0</td>\n",
              "      <td>Central Munnar</td>\n",
              "      <td>Attukal Waterfalls</td>\n",
              "      <td>0.95</td>\n",
              "      <td>2758.0</td>\n",
              "      <td>684.0</td>\n",
              "    </tr>\n",
              "    <tr>\n",
              "      <th>3</th>\n",
              "      <td>Tea Valley Resort</td>\n",
              "      <td>4.3</td>\n",
              "      <td>Excellent</td>\n",
              "      <td>1337</td>\n",
              "      <td>4.0</td>\n",
              "      <td>Pallivasal</td>\n",
              "      <td>city centre</td>\n",
              "      <td>4.8</td>\n",
              "      <td>2675.0</td>\n",
              "      <td>756.0</td>\n",
              "    </tr>\n",
              "    <tr>\n",
              "      <th>4</th>\n",
              "      <td>Grand Plaza</td>\n",
              "      <td>4.3</td>\n",
              "      <td>Excellent</td>\n",
              "      <td>1058</td>\n",
              "      <td>4.0</td>\n",
              "      <td>Moolakadai</td>\n",
              "      <td>Attukal Waterfalls</td>\n",
              "      <td>1.9</td>\n",
              "      <td>3203.0</td>\n",
              "      <td>654.0</td>\n",
              "    </tr>\n",
              "    <tr>\n",
              "      <th>...</th>\n",
              "      <td>...</td>\n",
              "      <td>...</td>\n",
              "      <td>...</td>\n",
              "      <td>...</td>\n",
              "      <td>...</td>\n",
              "      <td>...</td>\n",
              "      <td>...</td>\n",
              "      <td>...</td>\n",
              "      <td>...</td>\n",
              "      <td>...</td>\n",
              "    </tr>\n",
              "    <tr>\n",
              "      <th>69</th>\n",
              "      <td>The Fog Munnar (Resort &amp; Spa)</td>\n",
              "      <td>4.5</td>\n",
              "      <td>Excellent</td>\n",
              "      <td>292</td>\n",
              "      <td>5.0</td>\n",
              "      <td>Ettycity Road</td>\n",
              "      <td>city centre</td>\n",
              "      <td>13.2</td>\n",
              "      <td>8103.0</td>\n",
              "      <td>2178.0</td>\n",
              "    </tr>\n",
              "    <tr>\n",
              "      <th>70</th>\n",
              "      <td>Skylark Holidays | Rooms &amp; Caretaker</td>\n",
              "      <td>4.1</td>\n",
              "      <td>Very Good</td>\n",
              "      <td>17</td>\n",
              "      <td>NaN</td>\n",
              "      <td>Chinnakanal</td>\n",
              "      <td>city centre</td>\n",
              "      <td>20.6</td>\n",
              "      <td>3317.0</td>\n",
              "      <td>684.0</td>\n",
              "    </tr>\n",
              "    <tr>\n",
              "      <th>71</th>\n",
              "      <td>Deshadan Mountain Resort- The highest resort i...</td>\n",
              "      <td>4.3</td>\n",
              "      <td>Excellent</td>\n",
              "      <td>395</td>\n",
              "      <td>4.0</td>\n",
              "      <td>Pallivasal</td>\n",
              "      <td>city centre</td>\n",
              "      <td>5.8</td>\n",
              "      <td>3953.0</td>\n",
              "      <td>808.0</td>\n",
              "    </tr>\n",
              "    <tr>\n",
              "      <th>72</th>\n",
              "      <td>Nature Zone Jungle Resort</td>\n",
              "      <td>4.1</td>\n",
              "      <td>Very Good</td>\n",
              "      <td>187</td>\n",
              "      <td>4.0</td>\n",
              "      <td>Pallivasal</td>\n",
              "      <td>city centre</td>\n",
              "      <td>6.6</td>\n",
              "      <td>6862.0</td>\n",
              "      <td>2124.0</td>\n",
              "    </tr>\n",
              "    <tr>\n",
              "      <th>73</th>\n",
              "      <td>Lumino Highrange Homestay | Room &amp; Guided Treks</td>\n",
              "      <td>3.2</td>\n",
              "      <td>Good</td>\n",
              "      <td>221</td>\n",
              "      <td>NaN</td>\n",
              "      <td>Moolakadai</td>\n",
              "      <td>Attukal Waterfalls</td>\n",
              "      <td>1.3</td>\n",
              "      <td>1014.0</td>\n",
              "      <td>223.0</td>\n",
              "    </tr>\n",
              "  </tbody>\n",
              "</table>\n",
              "<p>74 rows × 10 columns</p>\n",
              "</div>\n",
              "    <div class=\"colab-df-buttons\">\n",
              "\n",
              "  <div class=\"colab-df-container\">\n",
              "    <button class=\"colab-df-convert\" onclick=\"convertToInteractive('df-ec40f364-afbc-421a-8039-c653adb8fc56')\"\n",
              "            title=\"Convert this dataframe to an interactive table.\"\n",
              "            style=\"display:none;\">\n",
              "\n",
              "  <svg xmlns=\"http://www.w3.org/2000/svg\" height=\"24px\" viewBox=\"0 -960 960 960\">\n",
              "    <path d=\"M120-120v-720h720v720H120Zm60-500h600v-160H180v160Zm220 220h160v-160H400v160Zm0 220h160v-160H400v160ZM180-400h160v-160H180v160Zm440 0h160v-160H620v160ZM180-180h160v-160H180v160Zm440 0h160v-160H620v160Z\"/>\n",
              "  </svg>\n",
              "    </button>\n",
              "\n",
              "  <style>\n",
              "    .colab-df-container {\n",
              "      display:flex;\n",
              "      gap: 12px;\n",
              "    }\n",
              "\n",
              "    .colab-df-convert {\n",
              "      background-color: #E8F0FE;\n",
              "      border: none;\n",
              "      border-radius: 50%;\n",
              "      cursor: pointer;\n",
              "      display: none;\n",
              "      fill: #1967D2;\n",
              "      height: 32px;\n",
              "      padding: 0 0 0 0;\n",
              "      width: 32px;\n",
              "    }\n",
              "\n",
              "    .colab-df-convert:hover {\n",
              "      background-color: #E2EBFA;\n",
              "      box-shadow: 0px 1px 2px rgba(60, 64, 67, 0.3), 0px 1px 3px 1px rgba(60, 64, 67, 0.15);\n",
              "      fill: #174EA6;\n",
              "    }\n",
              "\n",
              "    .colab-df-buttons div {\n",
              "      margin-bottom: 4px;\n",
              "    }\n",
              "\n",
              "    [theme=dark] .colab-df-convert {\n",
              "      background-color: #3B4455;\n",
              "      fill: #D2E3FC;\n",
              "    }\n",
              "\n",
              "    [theme=dark] .colab-df-convert:hover {\n",
              "      background-color: #434B5C;\n",
              "      box-shadow: 0px 1px 3px 1px rgba(0, 0, 0, 0.15);\n",
              "      filter: drop-shadow(0px 1px 2px rgba(0, 0, 0, 0.3));\n",
              "      fill: #FFFFFF;\n",
              "    }\n",
              "  </style>\n",
              "\n",
              "    <script>\n",
              "      const buttonEl =\n",
              "        document.querySelector('#df-ec40f364-afbc-421a-8039-c653adb8fc56 button.colab-df-convert');\n",
              "      buttonEl.style.display =\n",
              "        google.colab.kernel.accessAllowed ? 'block' : 'none';\n",
              "\n",
              "      async function convertToInteractive(key) {\n",
              "        const element = document.querySelector('#df-ec40f364-afbc-421a-8039-c653adb8fc56');\n",
              "        const dataTable =\n",
              "          await google.colab.kernel.invokeFunction('convertToInteractive',\n",
              "                                                    [key], {});\n",
              "        if (!dataTable) return;\n",
              "\n",
              "        const docLinkHtml = 'Like what you see? Visit the ' +\n",
              "          '<a target=\"_blank\" href=https://colab.research.google.com/notebooks/data_table.ipynb>data table notebook</a>'\n",
              "          + ' to learn more about interactive tables.';\n",
              "        element.innerHTML = '';\n",
              "        dataTable['output_type'] = 'display_data';\n",
              "        await google.colab.output.renderOutput(dataTable, element);\n",
              "        const docLink = document.createElement('div');\n",
              "        docLink.innerHTML = docLinkHtml;\n",
              "        element.appendChild(docLink);\n",
              "      }\n",
              "    </script>\n",
              "  </div>\n",
              "\n",
              "\n",
              "<div id=\"df-c90a0c24-57bc-412d-a3cd-910597515e01\">\n",
              "  <button class=\"colab-df-quickchart\" onclick=\"quickchart('df-c90a0c24-57bc-412d-a3cd-910597515e01')\"\n",
              "            title=\"Suggest charts\"\n",
              "            style=\"display:none;\">\n",
              "\n",
              "<svg xmlns=\"http://www.w3.org/2000/svg\" height=\"24px\"viewBox=\"0 0 24 24\"\n",
              "     width=\"24px\">\n",
              "    <g>\n",
              "        <path d=\"M19 3H5c-1.1 0-2 .9-2 2v14c0 1.1.9 2 2 2h14c1.1 0 2-.9 2-2V5c0-1.1-.9-2-2-2zM9 17H7v-7h2v7zm4 0h-2V7h2v10zm4 0h-2v-4h2v4z\"/>\n",
              "    </g>\n",
              "</svg>\n",
              "  </button>\n",
              "\n",
              "<style>\n",
              "  .colab-df-quickchart {\n",
              "      --bg-color: #E8F0FE;\n",
              "      --fill-color: #1967D2;\n",
              "      --hover-bg-color: #E2EBFA;\n",
              "      --hover-fill-color: #174EA6;\n",
              "      --disabled-fill-color: #AAA;\n",
              "      --disabled-bg-color: #DDD;\n",
              "  }\n",
              "\n",
              "  [theme=dark] .colab-df-quickchart {\n",
              "      --bg-color: #3B4455;\n",
              "      --fill-color: #D2E3FC;\n",
              "      --hover-bg-color: #434B5C;\n",
              "      --hover-fill-color: #FFFFFF;\n",
              "      --disabled-bg-color: #3B4455;\n",
              "      --disabled-fill-color: #666;\n",
              "  }\n",
              "\n",
              "  .colab-df-quickchart {\n",
              "    background-color: var(--bg-color);\n",
              "    border: none;\n",
              "    border-radius: 50%;\n",
              "    cursor: pointer;\n",
              "    display: none;\n",
              "    fill: var(--fill-color);\n",
              "    height: 32px;\n",
              "    padding: 0;\n",
              "    width: 32px;\n",
              "  }\n",
              "\n",
              "  .colab-df-quickchart:hover {\n",
              "    background-color: var(--hover-bg-color);\n",
              "    box-shadow: 0 1px 2px rgba(60, 64, 67, 0.3), 0 1px 3px 1px rgba(60, 64, 67, 0.15);\n",
              "    fill: var(--button-hover-fill-color);\n",
              "  }\n",
              "\n",
              "  .colab-df-quickchart-complete:disabled,\n",
              "  .colab-df-quickchart-complete:disabled:hover {\n",
              "    background-color: var(--disabled-bg-color);\n",
              "    fill: var(--disabled-fill-color);\n",
              "    box-shadow: none;\n",
              "  }\n",
              "\n",
              "  .colab-df-spinner {\n",
              "    border: 2px solid var(--fill-color);\n",
              "    border-color: transparent;\n",
              "    border-bottom-color: var(--fill-color);\n",
              "    animation:\n",
              "      spin 1s steps(1) infinite;\n",
              "  }\n",
              "\n",
              "  @keyframes spin {\n",
              "    0% {\n",
              "      border-color: transparent;\n",
              "      border-bottom-color: var(--fill-color);\n",
              "      border-left-color: var(--fill-color);\n",
              "    }\n",
              "    20% {\n",
              "      border-color: transparent;\n",
              "      border-left-color: var(--fill-color);\n",
              "      border-top-color: var(--fill-color);\n",
              "    }\n",
              "    30% {\n",
              "      border-color: transparent;\n",
              "      border-left-color: var(--fill-color);\n",
              "      border-top-color: var(--fill-color);\n",
              "      border-right-color: var(--fill-color);\n",
              "    }\n",
              "    40% {\n",
              "      border-color: transparent;\n",
              "      border-right-color: var(--fill-color);\n",
              "      border-top-color: var(--fill-color);\n",
              "    }\n",
              "    60% {\n",
              "      border-color: transparent;\n",
              "      border-right-color: var(--fill-color);\n",
              "    }\n",
              "    80% {\n",
              "      border-color: transparent;\n",
              "      border-right-color: var(--fill-color);\n",
              "      border-bottom-color: var(--fill-color);\n",
              "    }\n",
              "    90% {\n",
              "      border-color: transparent;\n",
              "      border-bottom-color: var(--fill-color);\n",
              "    }\n",
              "  }\n",
              "</style>\n",
              "\n",
              "  <script>\n",
              "    async function quickchart(key) {\n",
              "      const quickchartButtonEl =\n",
              "        document.querySelector('#' + key + ' button');\n",
              "      quickchartButtonEl.disabled = true;  // To prevent multiple clicks.\n",
              "      quickchartButtonEl.classList.add('colab-df-spinner');\n",
              "      try {\n",
              "        const charts = await google.colab.kernel.invokeFunction(\n",
              "            'suggestCharts', [key], {});\n",
              "      } catch (error) {\n",
              "        console.error('Error during call to suggestCharts:', error);\n",
              "      }\n",
              "      quickchartButtonEl.classList.remove('colab-df-spinner');\n",
              "      quickchartButtonEl.classList.add('colab-df-quickchart-complete');\n",
              "    }\n",
              "    (() => {\n",
              "      let quickchartButtonEl =\n",
              "        document.querySelector('#df-c90a0c24-57bc-412d-a3cd-910597515e01 button');\n",
              "      quickchartButtonEl.style.display =\n",
              "        google.colab.kernel.accessAllowed ? 'block' : 'none';\n",
              "    })();\n",
              "  </script>\n",
              "</div>\n",
              "\n",
              "  <div id=\"id_18ba6020-f7bb-4091-9816-7c25b4b72fef\">\n",
              "    <style>\n",
              "      .colab-df-generate {\n",
              "        background-color: #E8F0FE;\n",
              "        border: none;\n",
              "        border-radius: 50%;\n",
              "        cursor: pointer;\n",
              "        display: none;\n",
              "        fill: #1967D2;\n",
              "        height: 32px;\n",
              "        padding: 0 0 0 0;\n",
              "        width: 32px;\n",
              "      }\n",
              "\n",
              "      .colab-df-generate:hover {\n",
              "        background-color: #E2EBFA;\n",
              "        box-shadow: 0px 1px 2px rgba(60, 64, 67, 0.3), 0px 1px 3px 1px rgba(60, 64, 67, 0.15);\n",
              "        fill: #174EA6;\n",
              "      }\n",
              "\n",
              "      [theme=dark] .colab-df-generate {\n",
              "        background-color: #3B4455;\n",
              "        fill: #D2E3FC;\n",
              "      }\n",
              "\n",
              "      [theme=dark] .colab-df-generate:hover {\n",
              "        background-color: #434B5C;\n",
              "        box-shadow: 0px 1px 3px 1px rgba(0, 0, 0, 0.15);\n",
              "        filter: drop-shadow(0px 1px 2px rgba(0, 0, 0, 0.3));\n",
              "        fill: #FFFFFF;\n",
              "      }\n",
              "    </style>\n",
              "    <button class=\"colab-df-generate\" onclick=\"generateWithVariable('df')\"\n",
              "            title=\"Generate code using this dataframe.\"\n",
              "            style=\"display:none;\">\n",
              "\n",
              "  <svg xmlns=\"http://www.w3.org/2000/svg\" height=\"24px\"viewBox=\"0 0 24 24\"\n",
              "       width=\"24px\">\n",
              "    <path d=\"M7,19H8.4L18.45,9,17,7.55,7,17.6ZM5,21V16.75L18.45,3.32a2,2,0,0,1,2.83,0l1.4,1.43a1.91,1.91,0,0,1,.58,1.4,1.91,1.91,0,0,1-.58,1.4L9.25,21ZM18.45,9,17,7.55Zm-12,3A5.31,5.31,0,0,0,4.9,8.1,5.31,5.31,0,0,0,1,6.5,5.31,5.31,0,0,0,4.9,4.9,5.31,5.31,0,0,0,6.5,1,5.31,5.31,0,0,0,8.1,4.9,5.31,5.31,0,0,0,12,6.5,5.46,5.46,0,0,0,6.5,12Z\"/>\n",
              "  </svg>\n",
              "    </button>\n",
              "    <script>\n",
              "      (() => {\n",
              "      const buttonEl =\n",
              "        document.querySelector('#id_18ba6020-f7bb-4091-9816-7c25b4b72fef button.colab-df-generate');\n",
              "      buttonEl.style.display =\n",
              "        google.colab.kernel.accessAllowed ? 'block' : 'none';\n",
              "\n",
              "      buttonEl.onclick = () => {\n",
              "        google.colab.notebook.generateWithVariable('df');\n",
              "      }\n",
              "      })();\n",
              "    </script>\n",
              "  </div>\n",
              "\n",
              "    </div>\n",
              "  </div>\n"
            ]
          },
          "metadata": {},
          "execution_count": 32
        }
      ]
    },
    {
      "cell_type": "code",
      "source": [
        "df['Distance to Landmark']= df['Distance to Landmark'].astype('float64')\n",
        "df.info()"
      ],
      "metadata": {
        "colab": {
          "base_uri": "https://localhost:8080/"
        },
        "id": "EHaj55IXLMo9",
        "outputId": "ca6c8dc8-428c-4a1d-c213-d3b47ee699e8"
      },
      "execution_count": 33,
      "outputs": [
        {
          "output_type": "stream",
          "name": "stdout",
          "text": [
            "<class 'pandas.core.frame.DataFrame'>\n",
            "RangeIndex: 74 entries, 0 to 73\n",
            "Data columns (total 10 columns):\n",
            " #   Column                Non-Null Count  Dtype  \n",
            "---  ------                --------------  -----  \n",
            " 0   Hotel Name            74 non-null     object \n",
            " 1   Rating                74 non-null     float64\n",
            " 2   Rating Description    74 non-null     object \n",
            " 3   Reviews               74 non-null     int64  \n",
            " 4   Star Rating           57 non-null     float64\n",
            " 5   Location              74 non-null     object \n",
            " 6   Nearest Landmark      74 non-null     object \n",
            " 7   Distance to Landmark  74 non-null     float64\n",
            " 8   Price                 74 non-null     float64\n",
            " 9   Tax                   72 non-null     float64\n",
            "dtypes: float64(5), int64(1), object(4)\n",
            "memory usage: 5.9+ KB\n"
          ]
        }
      ]
    },
    {
      "cell_type": "code",
      "source": [
        "from timeit import default_timer as timer\n",
        "a= timer()\n",
        "for i in df.columns:\n",
        "    print(i + \" n-uniques is\", len(df[i].unique()))\n",
        "print(\"time taken for loop\", timer()- a)"
      ],
      "metadata": {
        "colab": {
          "base_uri": "https://localhost:8080/"
        },
        "id": "hM2t1hizouvb",
        "outputId": "04b1f27a-fe24-4f82-dfa2-685712f7bbf3"
      },
      "execution_count": 34,
      "outputs": [
        {
          "output_type": "stream",
          "name": "stdout",
          "text": [
            "Hotel Name n-uniques is 74\n",
            "Rating n-uniques is 18\n",
            "Rating Description n-uniques is 4\n",
            "Reviews n-uniques is 70\n",
            "Star Rating n-uniques is 5\n",
            "Location n-uniques is 22\n",
            "Nearest Landmark n-uniques is 2\n",
            "Distance to Landmark n-uniques is 57\n",
            "Price n-uniques is 72\n",
            "Tax n-uniques is 71\n",
            "time taken for loop 0.00417851200018049\n"
          ]
        }
      ]
    },
    {
      "cell_type": "code",
      "source": [
        "a= timer()\n",
        "print(df.nunique())\n",
        "print(\"time taken no loop\", timer()- a)"
      ],
      "metadata": {
        "colab": {
          "base_uri": "https://localhost:8080/"
        },
        "id": "qgaDw32SplAi",
        "outputId": "57f37bb2-312c-4898-b8c0-fe6af3920c00"
      },
      "execution_count": 35,
      "outputs": [
        {
          "output_type": "stream",
          "name": "stdout",
          "text": [
            "Hotel Name              74\n",
            "Rating                  18\n",
            "Rating Description       4\n",
            "Reviews                 70\n",
            "Star Rating              4\n",
            "Location                22\n",
            "Nearest Landmark         2\n",
            "Distance to Landmark    57\n",
            "Price                   72\n",
            "Tax                     70\n",
            "dtype: int64\n",
            "time taken no loop 0.0066234040000381356\n"
          ]
        }
      ]
    },
    {
      "cell_type": "code",
      "source": [
        "df['Nearest Landmark']\n"
      ],
      "metadata": {
        "colab": {
          "base_uri": "https://localhost:8080/"
        },
        "id": "Yo7DvZ6f2ySS",
        "outputId": "dcd97c15-a554-4788-c63f-521db9c62e65"
      },
      "execution_count": 36,
      "outputs": [
        {
          "output_type": "execute_result",
          "data": {
            "text/plain": [
              "0            city centre\n",
              "1            city centre\n",
              "2     Attukal Waterfalls\n",
              "3            city centre\n",
              "4     Attukal Waterfalls\n",
              "             ...        \n",
              "69           city centre\n",
              "70           city centre\n",
              "71           city centre\n",
              "72           city centre\n",
              "73    Attukal Waterfalls\n",
              "Name: Nearest Landmark, Length: 74, dtype: object"
            ]
          },
          "metadata": {},
          "execution_count": 36
        }
      ]
    },
    {
      "cell_type": "code",
      "source": [
        "df['Star Rating'].fillna(df['Star Rating'].value_counts().index[0], inplace = True)\n",
        "df['Star Rating']= df['Star Rating'].astype('int8')\n",
        "df['Star Rating']"
      ],
      "metadata": {
        "colab": {
          "base_uri": "https://localhost:8080/"
        },
        "id": "Vj5OmEaV4UOW",
        "outputId": "3313a68d-4620-483d-ca5c-6a4d0484b02a"
      },
      "execution_count": 37,
      "outputs": [
        {
          "output_type": "execute_result",
          "data": {
            "text/plain": [
              "0     4\n",
              "1     4\n",
              "2     3\n",
              "3     4\n",
              "4     4\n",
              "     ..\n",
              "69    5\n",
              "70    4\n",
              "71    4\n",
              "72    4\n",
              "73    4\n",
              "Name: Star Rating, Length: 74, dtype: int8"
            ]
          },
          "metadata": {},
          "execution_count": 37
        }
      ]
    },
    {
      "cell_type": "code",
      "source": [
        "df['Star Rating'].value_counts()"
      ],
      "metadata": {
        "colab": {
          "base_uri": "https://localhost:8080/"
        },
        "id": "GGEjsfdzQksF",
        "outputId": "03fd237f-160e-42cd-aaa1-f60949824748"
      },
      "execution_count": 38,
      "outputs": [
        {
          "output_type": "execute_result",
          "data": {
            "text/plain": [
              "4    40\n",
              "3    18\n",
              "5    15\n",
              "2     1\n",
              "Name: Star Rating, dtype: int64"
            ]
          },
          "metadata": {},
          "execution_count": 38
        }
      ]
    },
    {
      "cell_type": "code",
      "source": [
        "sys.getsizeof(df)"
      ],
      "metadata": {
        "colab": {
          "base_uri": "https://localhost:8080/"
        },
        "id": "XoVNKyLXCtPA",
        "outputId": "80e24625-1d86-4953-dfbc-f958bde10a40"
      },
      "execution_count": 39,
      "outputs": [
        {
          "output_type": "execute_result",
          "data": {
            "text/plain": [
              "24451"
            ]
          },
          "metadata": {},
          "execution_count": 39
        }
      ]
    },
    {
      "cell_type": "code",
      "source": [
        "df['Rating Description'].value_counts()"
      ],
      "metadata": {
        "colab": {
          "base_uri": "https://localhost:8080/"
        },
        "id": "p2RDxlCBCTQ6",
        "outputId": "e8fa1866-c396-42e8-fdbd-30923c706a5e"
      },
      "execution_count": 40,
      "outputs": [
        {
          "output_type": "execute_result",
          "data": {
            "text/plain": [
              "Very Good    43\n",
              "Excellent    25\n",
              "Good          5\n",
              "Average       1\n",
              "Name: Rating Description, dtype: int64"
            ]
          },
          "metadata": {},
          "execution_count": 40
        }
      ]
    },
    {
      "cell_type": "code",
      "source": [
        "df['Reviews']"
      ],
      "metadata": {
        "colab": {
          "base_uri": "https://localhost:8080/"
        },
        "id": "WR41pzG2FTSA",
        "outputId": "7b3c379a-f3bb-47d5-9b87-b588f6e24adc"
      },
      "execution_count": 41,
      "outputs": [
        {
          "output_type": "execute_result",
          "data": {
            "text/plain": [
              "0     1058\n",
              "1     1088\n",
              "2      322\n",
              "3     1337\n",
              "4     1058\n",
              "      ... \n",
              "69     292\n",
              "70      17\n",
              "71     395\n",
              "72     187\n",
              "73     221\n",
              "Name: Reviews, Length: 74, dtype: int64"
            ]
          },
          "metadata": {},
          "execution_count": 41
        }
      ]
    },
    {
      "cell_type": "code",
      "source": [
        "df.info()"
      ],
      "metadata": {
        "colab": {
          "base_uri": "https://localhost:8080/"
        },
        "id": "3mF_jGg1GGf0",
        "outputId": "35aa96e5-f6a6-46da-876d-07cfdf3005e6"
      },
      "execution_count": 42,
      "outputs": [
        {
          "output_type": "stream",
          "name": "stdout",
          "text": [
            "<class 'pandas.core.frame.DataFrame'>\n",
            "RangeIndex: 74 entries, 0 to 73\n",
            "Data columns (total 10 columns):\n",
            " #   Column                Non-Null Count  Dtype  \n",
            "---  ------                --------------  -----  \n",
            " 0   Hotel Name            74 non-null     object \n",
            " 1   Rating                74 non-null     float64\n",
            " 2   Rating Description    74 non-null     object \n",
            " 3   Reviews               74 non-null     int64  \n",
            " 4   Star Rating           74 non-null     int8   \n",
            " 5   Location              74 non-null     object \n",
            " 6   Nearest Landmark      74 non-null     object \n",
            " 7   Distance to Landmark  74 non-null     float64\n",
            " 8   Price                 74 non-null     float64\n",
            " 9   Tax                   72 non-null     float64\n",
            "dtypes: float64(4), int64(1), int8(1), object(4)\n",
            "memory usage: 5.4+ KB\n"
          ]
        }
      ]
    },
    {
      "cell_type": "code",
      "source": [
        "df['Tax'].fillna(df['Tax'].median(), inplace =True)"
      ],
      "metadata": {
        "id": "8NwQKNrSIuyX"
      },
      "execution_count": 43,
      "outputs": []
    },
    {
      "cell_type": "code",
      "source": [
        "df.info()"
      ],
      "metadata": {
        "colab": {
          "base_uri": "https://localhost:8080/"
        },
        "id": "9I3JjMDyJjkd",
        "outputId": "7f4a8b3c-e8d7-494b-a030-d825e6da5ee6"
      },
      "execution_count": 44,
      "outputs": [
        {
          "output_type": "stream",
          "name": "stdout",
          "text": [
            "<class 'pandas.core.frame.DataFrame'>\n",
            "RangeIndex: 74 entries, 0 to 73\n",
            "Data columns (total 10 columns):\n",
            " #   Column                Non-Null Count  Dtype  \n",
            "---  ------                --------------  -----  \n",
            " 0   Hotel Name            74 non-null     object \n",
            " 1   Rating                74 non-null     float64\n",
            " 2   Rating Description    74 non-null     object \n",
            " 3   Reviews               74 non-null     int64  \n",
            " 4   Star Rating           74 non-null     int8   \n",
            " 5   Location              74 non-null     object \n",
            " 6   Nearest Landmark      74 non-null     object \n",
            " 7   Distance to Landmark  74 non-null     float64\n",
            " 8   Price                 74 non-null     float64\n",
            " 9   Tax                   74 non-null     float64\n",
            "dtypes: float64(4), int64(1), int8(1), object(4)\n",
            "memory usage: 5.4+ KB\n"
          ]
        }
      ]
    },
    {
      "cell_type": "code",
      "source": [
        "from google.colab import files\n",
        "df.to_csv('munnar.csv')\n",
        "files.download('munnar.csv')\n"
      ],
      "metadata": {
        "colab": {
          "base_uri": "https://localhost:8080/",
          "height": 17
        },
        "id": "-53q7sgV62GE",
        "outputId": "dd34d627-2f55-4c57-a7d2-b77d2c82df27"
      },
      "execution_count": 96,
      "outputs": [
        {
          "output_type": "display_data",
          "data": {
            "text/plain": [
              "<IPython.core.display.Javascript object>"
            ],
            "application/javascript": [
              "\n",
              "    async function download(id, filename, size) {\n",
              "      if (!google.colab.kernel.accessAllowed) {\n",
              "        return;\n",
              "      }\n",
              "      const div = document.createElement('div');\n",
              "      const label = document.createElement('label');\n",
              "      label.textContent = `Downloading \"${filename}\": `;\n",
              "      div.appendChild(label);\n",
              "      const progress = document.createElement('progress');\n",
              "      progress.max = size;\n",
              "      div.appendChild(progress);\n",
              "      document.body.appendChild(div);\n",
              "\n",
              "      const buffers = [];\n",
              "      let downloaded = 0;\n",
              "\n",
              "      const channel = await google.colab.kernel.comms.open(id);\n",
              "      // Send a message to notify the kernel that we're ready.\n",
              "      channel.send({})\n",
              "\n",
              "      for await (const message of channel.messages) {\n",
              "        // Send a message to notify the kernel that we're ready.\n",
              "        channel.send({})\n",
              "        if (message.buffers) {\n",
              "          for (const buffer of message.buffers) {\n",
              "            buffers.push(buffer);\n",
              "            downloaded += buffer.byteLength;\n",
              "            progress.value = downloaded;\n",
              "          }\n",
              "        }\n",
              "      }\n",
              "      const blob = new Blob(buffers, {type: 'application/binary'});\n",
              "      const a = document.createElement('a');\n",
              "      a.href = window.URL.createObjectURL(blob);\n",
              "      a.download = filename;\n",
              "      div.appendChild(a);\n",
              "      a.click();\n",
              "      div.remove();\n",
              "    }\n",
              "  "
            ]
          },
          "metadata": {}
        },
        {
          "output_type": "display_data",
          "data": {
            "text/plain": [
              "<IPython.core.display.Javascript object>"
            ],
            "application/javascript": [
              "download(\"download_7332d8b3-425d-4059-8a82-73bac74cb4a6\", \"munnar.csv\", 7094)"
            ]
          },
          "metadata": {}
        }
      ]
    }
  ]
}